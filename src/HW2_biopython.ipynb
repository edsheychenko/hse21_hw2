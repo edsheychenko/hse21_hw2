{
  "nbformat": 4,
  "nbformat_minor": 0,
  "metadata": {
    "colab": {
      "name": "HW2_biopython.ipynb",
      "provenance": []
    },
    "kernelspec": {
      "name": "python3",
      "display_name": "Python 3"
    },
    "language_info": {
      "name": "python"
    }
  },
  "cells": [
    {
      "cell_type": "markdown",
      "source": [
        "# Скачиваем и устанавливаем бактерии"
      ],
      "metadata": {
        "id": "nbc_VXJnyUYM"
      }
    },
    {
      "cell_type": "code",
      "execution_count": null,
      "metadata": {
        "colab": {
          "base_uri": "https://localhost:8080/"
        },
        "id": "nQO_vufeuM9x",
        "outputId": "6e537d0e-30d3-46ab-eb35-ffa1cfeea24c"
      },
      "outputs": [
        {
          "output_type": "stream",
          "name": "stdout",
          "text": [
            "--2021-12-17 19:02:21--  https://raw.githubusercontent.com/edsheychenko/hse21_hw2/main/data/gms2.lst\n",
            "Resolving raw.githubusercontent.com (raw.githubusercontent.com)... 185.199.108.133, 185.199.109.133, 185.199.110.133, ...\n",
            "Connecting to raw.githubusercontent.com (raw.githubusercontent.com)|185.199.108.133|:443... connected.\n",
            "HTTP request sent, awaiting response... 200 OK\n",
            "Length: 219091 (214K) [text/plain]\n",
            "Saving to: ‘gms2.lst’\n",
            "\n",
            "\rgms2.lst              0%[                    ]       0  --.-KB/s               \rgms2.lst            100%[===================>] 213.96K  --.-KB/s    in 0.004s  \n",
            "\n",
            "2021-12-17 19:02:21 (54.2 MB/s) - ‘gms2.lst’ saved [219091/219091]\n",
            "\n"
          ]
        }
      ],
      "source": [
        "!wget https://raw.githubusercontent.com/edsheychenko/hse21_hw2/main/data/gms2.lst"
      ]
    },
    {
      "cell_type": "code",
      "source": [
        "!wget https://raw.githubusercontent.com/edsheychenko/hse21_hw1/main/data/Scaffold.fa"
      ],
      "metadata": {
        "colab": {
          "base_uri": "https://localhost:8080/"
        },
        "id": "Ne1IGKu2wkZg",
        "outputId": "a4e8dbe0-11dc-471b-8aa6-586e2e9e5489"
      },
      "execution_count": null,
      "outputs": [
        {
          "output_type": "stream",
          "name": "stdout",
          "text": [
            "--2021-12-17 19:03:41--  https://raw.githubusercontent.com/edsheychenko/hse21_hw1/main/data/Scaffold.fa\n",
            "Resolving raw.githubusercontent.com (raw.githubusercontent.com)... 185.199.108.133, 185.199.109.133, 185.199.110.133, ...\n",
            "Connecting to raw.githubusercontent.com (raw.githubusercontent.com)|185.199.108.133|:443... connected.\n",
            "HTTP request sent, awaiting response... 200 OK\n",
            "Length: 3924633 (3.7M) [text/plain]\n",
            "Saving to: ‘Scaffold.fa’\n",
            "\n",
            "\rScaffold.fa           0%[                    ]       0  --.-KB/s               \rScaffold.fa         100%[===================>]   3.74M  --.-KB/s    in 0.02s   \n",
            "\n",
            "2021-12-17 19:03:41 (157 MB/s) - ‘Scaffold.fa’ saved [3924633/3924633]\n",
            "\n"
          ]
        }
      ]
    },
    {
      "cell_type": "code",
      "source": [
        "!wget https://raw.githubusercontent.com/edsheychenko/hse21_hw2/main/data/proteins.fasta"
      ],
      "metadata": {
        "colab": {
          "base_uri": "https://localhost:8080/"
        },
        "id": "RK-gfo8lx2Ok",
        "outputId": "379f9fac-08f6-4335-a127-7807d9facff5"
      },
      "execution_count": null,
      "outputs": [
        {
          "output_type": "stream",
          "name": "stdout",
          "text": [
            "--2021-12-17 19:04:17--  https://raw.githubusercontent.com/edsheychenko/hse21_hw2/main/data/proteins.fasta\n",
            "Resolving raw.githubusercontent.com (raw.githubusercontent.com)... 185.199.108.133, 185.199.109.133, 185.199.110.133, ...\n",
            "Connecting to raw.githubusercontent.com (raw.githubusercontent.com)|185.199.108.133|:443... connected.\n",
            "HTTP request sent, awaiting response... 200 OK\n",
            "Length: 1425982 (1.4M) [text/plain]\n",
            "Saving to: ‘proteins.fasta’\n",
            "\n",
            "\rproteins.fasta        0%[                    ]       0  --.-KB/s               \rproteins.fasta      100%[===================>]   1.36M  --.-KB/s    in 0.01s   \n",
            "\n",
            "2021-12-17 19:04:17 (122 MB/s) - ‘proteins.fasta’ saved [1425982/1425982]\n",
            "\n"
          ]
        }
      ]
    },
    {
      "cell_type": "code",
      "source": [
        "!wget https://raw.githubusercontent.com/edsheychenko/hse21_hw2/main/data/scaffolds.hits_from_MIL_1.txt"
      ],
      "metadata": {
        "colab": {
          "base_uri": "https://localhost:8080/"
        },
        "id": "ukklZe6gx_zF",
        "outputId": "65dd8fd6-424a-4e08-f94e-8dcedec1e882"
      },
      "execution_count": null,
      "outputs": [
        {
          "output_type": "stream",
          "name": "stdout",
          "text": [
            "--2021-12-17 19:05:02--  https://raw.githubusercontent.com/edsheychenko/hse21_hw2/main/data/scaffolds.hits_from_MIL_1.txt\n",
            "Resolving raw.githubusercontent.com (raw.githubusercontent.com)... 185.199.108.133, 185.199.109.133, 185.199.110.133, ...\n",
            "Connecting to raw.githubusercontent.com (raw.githubusercontent.com)|185.199.108.133|:443... connected.\n",
            "HTTP request sent, awaiting response... 200 OK\n",
            "Length: 830298 (811K) [text/plain]\n",
            "Saving to: ‘scaffolds.hits_from_MIL_1.txt’\n",
            "\n",
            "scaffolds.hits_from 100%[===================>] 810.84K  --.-KB/s    in 0.01s   \n",
            "\n",
            "2021-12-17 19:05:02 (61.2 MB/s) - ‘scaffolds.hits_from_MIL_1.txt’ saved [830298/830298]\n",
            "\n"
          ]
        }
      ]
    },
    {
      "cell_type": "code",
      "source": [
        "!wget https://raw.githubusercontent.com/edsheychenko/hse21_hw2/main/data/scaffolds.hits_from_SwissProt.txt"
      ],
      "metadata": {
        "colab": {
          "base_uri": "https://localhost:8080/"
        },
        "id": "XP8naV-ZyJb5",
        "outputId": "fcb8c612-0918-4ace-f8b1-0c9862d97a75"
      },
      "execution_count": null,
      "outputs": [
        {
          "output_type": "stream",
          "name": "stdout",
          "text": [
            "--2021-12-17 19:05:31--  https://raw.githubusercontent.com/edsheychenko/hse21_hw2/main/data/scaffolds.hits_from_SwissProt.txt\n",
            "Resolving raw.githubusercontent.com (raw.githubusercontent.com)... 185.199.108.133, 185.199.109.133, 185.199.110.133, ...\n",
            "Connecting to raw.githubusercontent.com (raw.githubusercontent.com)|185.199.108.133|:443... connected.\n",
            "HTTP request sent, awaiting response... 200 OK\n",
            "Length: 65262 (64K) [text/plain]\n",
            "Saving to: ‘scaffolds.hits_from_SwissProt.txt’\n",
            "\n",
            "\r          scaffolds   0%[                    ]       0  --.-KB/s               \rscaffolds.hits_from 100%[===================>]  63.73K  --.-KB/s    in 0.001s  \n",
            "\n",
            "2021-12-17 19:05:31 (48.7 MB/s) - ‘scaffolds.hits_from_SwissProt.txt’ saved [65262/65262]\n",
            "\n"
          ]
        }
      ]
    },
    {
      "cell_type": "markdown",
      "source": [
        "# Скачиваем геном близкородственной бактерии T.oleivorans"
      ],
      "metadata": {
        "id": "t5HcW1VvyafN"
      }
    },
    {
      "cell_type": "code",
      "source": [
        "!sh -c \"$(curl -fsSL ftp://ftp.ncbi.nlm.nih.gov/entrez/entrezdirect/install-edirect.sh)\""
      ],
      "metadata": {
        "colab": {
          "base_uri": "https://localhost:8080/"
        },
        "id": "OeODLG3ZyeLn",
        "outputId": "32b2df3b-f5a0-4369-ee70-36aa93a4c342"
      },
      "execution_count": null,
      "outputs": [
        {
          "output_type": "stream",
          "name": "stdout",
          "text": [
            "\n",
            "Entrez Direct has been successfully downloaded and installed.\n",
            "\n",
            "In order to complete the configuration process, please execute the following:\n",
            "\n",
            "  echo \"export PATH=\\${PATH}:/root/edirect\" >> ${HOME}/.bashrc\n",
            "\n",
            "or manually edit the PATH variable assignment in your .bashrc file.\n",
            "\n",
            "Would you like to do that automatically now? [y/N]\n",
            "y\n",
            "OK, done.\n",
            "\n",
            "To activate EDirect for this terminal session, please execute the following:\n",
            "\n",
            "export PATH=${PATH}:${HOME}/edirect\n",
            "\n"
          ]
        }
      ]
    },
    {
      "cell_type": "code",
      "source": [
        "!$HOME/edirect/efetch -db nuccore -id HF680312 -format gb  >  T_oleivorans_MIL_1.gbk"
      ],
      "metadata": {
        "id": "WRsX8aGU1Qxz"
      },
      "execution_count": null,
      "outputs": []
    },
    {
      "cell_type": "code",
      "source": [
        "!pip install biopython"
      ],
      "metadata": {
        "colab": {
          "base_uri": "https://localhost:8080/"
        },
        "id": "LIvck43J1dji",
        "outputId": "d08ac453-0ac6-4cde-97d9-0c7a8204b0d0"
      },
      "execution_count": null,
      "outputs": [
        {
          "output_type": "stream",
          "name": "stdout",
          "text": [
            "Collecting biopython\n",
            "  Downloading biopython-1.79-cp37-cp37m-manylinux_2_5_x86_64.manylinux1_x86_64.whl (2.3 MB)\n",
            "\u001b[K     |████████████████████████████████| 2.3 MB 32.6 MB/s \n",
            "\u001b[?25hRequirement already satisfied: numpy in /usr/local/lib/python3.7/dist-packages (from biopython) (1.19.5)\n",
            "Installing collected packages: biopython\n",
            "Successfully installed biopython-1.79\n"
          ]
        }
      ]
    },
    {
      "cell_type": "markdown",
      "source": [
        "# Аннотация генома "
      ],
      "metadata": {
        "id": "BzPZoAiW1tZD"
      }
    },
    {
      "cell_type": "code",
      "source": [
        "!head -n 20 gms2.lst"
      ],
      "metadata": {
        "colab": {
          "base_uri": "https://localhost:8080/"
        },
        "id": "IeO8VXzk2FBA",
        "outputId": "f3cf99d3-8f54-4f0b-b9b1-632800fc97de"
      },
      "execution_count": null,
      "outputs": [
        {
          "output_type": "stream",
          "name": "stdout",
          "text": [
            "# GeneMark.hmm-2 LST format\n",
            "# GeneMark.hmm-2 prokaryotic version: 1.25_lic\n",
            "# File with sequence: Scaffold.fa\n",
            "# File with native parameters: GMS2.mod\n",
            "# Native species name and build: unspecified GeneMarkS-2-1.14_1.25_lic\n",
            "# File with MetaGeneMark parameters: /content/gms2_linux_64/mgm_11.mod\n",
            "# translation table: 11\n",
            "# output date start: Fri Dec 17 15:53:26 2021\n",
            "\n",
            "# sequence-region 1 3835152\n",
            "SequenceID: scaffold1_len3835108_cov231\n",
            "     1   -   <3    323     321 native ATGAGG 6 1\n",
            "     2   -    396    839     444 atypical GCGAGA 5 1\n",
            "     3   -    864    1385     522 atypical AGGAAG 6 1\n",
            "     4   -    1823    2650     828 atypical AGGATT 9 1\n",
            "     5   +    2996    3118     123 native TGGAGG 6 1\n",
            "     6   -    3293    4027     735 native AGGTCA 7 1\n",
            "     7   -    4365    5540    1176 native AGGAGA 8 1\n",
            "     8   -    5565    7712    2148 native TGGAGA 7 1\n",
            "     9   +    8081    8875     795 native AGTAGA 5 1\n"
          ]
        }
      ]
    },
    {
      "cell_type": "markdown",
      "source": [
        "* Для примера проаннотируем два коротких скаффолда (scaffold3_cov275 и scaffold9_cov256):"
      ],
      "metadata": {
        "id": "BQYURNkX7eiW"
      }
    },
    {
      "cell_type": "code",
      "source": [
        "from Bio import SeqIO\n",
        "\n",
        "recs = []\n",
        "orders = []\n",
        "\n",
        "for record in SeqIO.parse(\"/content/Scaffold.fa\", \"fasta\"):\n",
        "    recs.append(record)\n",
        "    orders.append(record.id[record.id.find('cov')+3:])"
      ],
      "metadata": {
        "id": "yeNvX5ag2R-R"
      },
      "execution_count": null,
      "outputs": []
    },
    {
      "cell_type": "code",
      "source": [
        "print(\"Количество скаффолдов: \", len(recs))"
      ],
      "metadata": {
        "colab": {
          "base_uri": "https://localhost:8080/"
        },
        "id": "PR-1V9n65Uhy",
        "outputId": "afbf4b5d-cdd6-412e-bebb-24f18cf79f16"
      },
      "execution_count": null,
      "outputs": [
        {
          "output_type": "stream",
          "name": "stdout",
          "text": [
            "Количество скаффолдов:  67\n"
          ]
        }
      ]
    },
    {
      "cell_type": "code",
      "source": [
        "for record in recs:\n",
        "    record.annotations['molecule_type'] = 'DNA'\n",
        "    record.format(\"genbank\")"
      ],
      "metadata": {
        "colab": {
          "base_uri": "https://localhost:8080/"
        },
        "id": "jISIbBuV705s",
        "outputId": "023b071a-d78b-45d3-d263-42c0438b1f02"
      },
      "execution_count": null,
      "outputs": [
        {
          "output_type": "stream",
          "name": "stderr",
          "text": [
            "/usr/local/lib/python3.7/dist-packages/Bio/SeqIO/InsdcIO.py:730: BiopythonWarning: Increasing length of locus line to allow long name. This will result in fields that are not in usual positions.\n",
            "  BiopythonWarning,\n"
          ]
        }
      ]
    },
    {
      "cell_type": "code",
      "source": [
        "SeqIO.write(recs, \"GENOME.gbk\", \"genbank\")"
      ],
      "metadata": {
        "colab": {
          "base_uri": "https://localhost:8080/"
        },
        "id": "6istuBCm79JE",
        "outputId": "467b27f9-600f-4a7d-8a9f-1885905b5f77"
      },
      "execution_count": null,
      "outputs": [
        {
          "output_type": "stream",
          "name": "stderr",
          "text": [
            "/usr/local/lib/python3.7/dist-packages/Bio/SeqIO/InsdcIO.py:730: BiopythonWarning: Increasing length of locus line to allow long name. This will result in fields that are not in usual positions.\n",
            "  BiopythonWarning,\n"
          ]
        },
        {
          "output_type": "execute_result",
          "data": {
            "text/plain": [
              "67"
            ]
          },
          "metadata": {},
          "execution_count": 16
        }
      ]
    },
    {
      "cell_type": "markdown",
      "source": [
        "# Добавляем координаты генов"
      ],
      "metadata": {
        "id": "sSKMW9mK8E4e"
      }
    },
    {
      "cell_type": "markdown",
      "source": [
        "```\n",
        "SequenceID: scaffold3_cov275\n",
        "  3535   -    30    1001     972 atypical GTCGAG 5 1\n",
        "  3536   -    1350    2192     843 native AAAGTG 7 1\n",
        "  3537   +    2304    2507     204 native GCGGAG 7 1\n",
        "  3538   -    2554    2751     198 native TAAGTA 7 1\n",
        "  3539   +    2855    3265     411 native TCGGTC 6 1\n",
        "```"
      ],
      "metadata": {
        "id": "n7DrsWzn8IOb"
      }
    },
    {
      "cell_type": "code",
      "source": [
        "from pprint import pprint\n",
        "from Bio.SeqFeature import SeqFeature, FeatureLocation\n",
        "\n",
        "fts = {}\n",
        "flag = 0\n",
        "i = 0\n",
        "\n",
        "f = open('gms2.lst', 'r')\n",
        "for line in f:\n",
        "    if flag == 1 and line[0] == '#':\n",
        "        flag = 0\n",
        "    elif line[:10] == 'SequenceID':\n",
        "        flag = 1\n",
        "        i = line[line.find('cov')+3:line.find('\\n')]\n",
        "        fts[i] = []\n",
        "\n",
        "    elif flag == 1:\n",
        "        idx = int(line[:6])\n",
        "        strand = line[9]\n",
        "        if strand == '-':\n",
        "            strand = -1\n",
        "        elif strand == '+':\n",
        "            strand = 1\n",
        "        else:\n",
        "            strand = 0\n",
        "        start = int(line[14:line.find(\" \", 14)])\n",
        "        end = int(line[line.find(\" \", 14)+4: line.find(\" \", line.find(\" \", 14)+4)])\n",
        "        sc = SeqFeature(FeatureLocation(start, end, strand=strand), type=\"CDS\")\n",
        "        sc.qualifiers['locus_tag'] = [str(idx)]\n",
        "        fts[i].append(sc)"
      ],
      "metadata": {
        "id": "E3lKMhj38Zji"
      },
      "execution_count": null,
      "outputs": []
    },
    {
      "cell_type": "code",
      "source": [
        "for i, record in enumerate(recs):\n",
        "    record.features = fts[orders[i]]"
      ],
      "metadata": {
        "id": "zmWAiPGt8nLP"
      },
      "execution_count": null,
      "outputs": []
    },
    {
      "cell_type": "code",
      "source": [
        "SeqIO.write(recs, \"GENOME.gbk\", \"genbank\")"
      ],
      "metadata": {
        "colab": {
          "base_uri": "https://localhost:8080/"
        },
        "id": "qMbf26uA8pyN",
        "outputId": "bf595497-00f9-4515-e414-cd3a96c2c784"
      },
      "execution_count": null,
      "outputs": [
        {
          "output_type": "stream",
          "name": "stderr",
          "text": [
            "/usr/local/lib/python3.7/dist-packages/Bio/SeqIO/InsdcIO.py:730: BiopythonWarning: Increasing length of locus line to allow long name. This will result in fields that are not in usual positions.\n",
            "  BiopythonWarning,\n"
          ]
        },
        {
          "output_type": "execute_result",
          "data": {
            "text/plain": [
              "67"
            ]
          },
          "metadata": {},
          "execution_count": 20
        }
      ]
    },
    {
      "cell_type": "markdown",
      "source": [
        "# Добавляем трансляции генов (аминокислотные посл-ти)"
      ],
      "metadata": {
        "id": "sFqW0E5I8uV7"
      }
    },
    {
      "cell_type": "code",
      "source": [
        "for record in SeqIO.parse(\"proteins.fasta\", \"fasta\"):\n",
        "    for key in fts.keys():\n",
        "        for f in fts[key]:\n",
        "            if record.id == f.qualifiers['locus_tag'][0]:\n",
        "                f.qualifiers['translation'] = [record.seq]"
      ],
      "metadata": {
        "id": "_nv-t7We8vN2"
      },
      "execution_count": null,
      "outputs": []
    },
    {
      "cell_type": "code",
      "source": [
        "for i, record in enumerate(recs):\n",
        "    record.features = fts[orders[i]]"
      ],
      "metadata": {
        "id": "2aApJSAA85SX"
      },
      "execution_count": null,
      "outputs": []
    },
    {
      "cell_type": "code",
      "source": [
        "SeqIO.write(recs, \"GENOME.gbk\", \"genbank\")"
      ],
      "metadata": {
        "colab": {
          "base_uri": "https://localhost:8080/"
        },
        "id": "PkLdft3H9Cm-",
        "outputId": "22e186bb-0d77-4961-db6b-46add0979692"
      },
      "execution_count": null,
      "outputs": [
        {
          "output_type": "stream",
          "name": "stderr",
          "text": [
            "/usr/local/lib/python3.7/dist-packages/Bio/SeqIO/InsdcIO.py:730: BiopythonWarning: Increasing length of locus line to allow long name. This will result in fields that are not in usual positions.\n",
            "  BiopythonWarning,\n"
          ]
        },
        {
          "output_type": "execute_result",
          "data": {
            "text/plain": [
              "67"
            ]
          },
          "metadata": {},
          "execution_count": 24
        }
      ]
    },
    {
      "cell_type": "code",
      "source": [
        "pprint(vars(fts[orders[0]][0]))"
      ],
      "metadata": {
        "colab": {
          "base_uri": "https://localhost:8080/"
        },
        "id": "WVbIqTi69HjB",
        "outputId": "7a1828b7-6c3a-4930-b644-2528efbf1ba7"
      },
      "execution_count": null,
      "outputs": [
        {
          "output_type": "stream",
          "name": "stdout",
          "text": [
            "{'id': '<unknown id>',\n",
            " 'location': FeatureLocation(ExactPosition(3), ExactPosition(323), strand=-1),\n",
            " 'qualifiers': OrderedDict([('locus_tag', ['1']),\n",
            "                            ('translation',\n",
            "                             [Seq('MPKYTKPRKTWQYSNEFKVKAVQLSLIEGIQVKEVAVTLDIHPFMLSRWRKEYR...LKK')])]),\n",
            " 'type': 'CDS'}\n"
          ]
        }
      ]
    },
    {
      "cell_type": "markdown",
      "source": [
        "# Добавляем функции белков (из бактерии MIL-1)"
      ],
      "metadata": {
        "id": "hT_7xill9M5d"
      }
    },
    {
      "cell_type": "markdown",
      "source": [
        "* Часть файла scaffolds.hits_from_MIL_1.txt:\n",
        "\n",
        "```\n",
        "3535\tlcl|HF680312.1_prot_CCU72326.1_1877\t99.054\t317\t3\t0\t3\t319\t1\t317\t0.0\t644\n",
        "3535\tlcl|HF680312.1_prot_CCU72392.1_1943\t34.583\t240\t138\t5\t85\t307\t956\t1193\t2.33e-30\t118\n",
        "3535\tlcl|HF680312.1_prot_CCU72759.1_2310\t27.667\t300\t188\t8\t8\t302\t709\t984\t1.02e-24\t101\n",
        "3535\tlcl|HF680312.1_prot_CCU70543.1_94\t42.857\t126\t71\t1\t79\t204\t798\t922\t5.63e-24\t99.4\n",
        "3535\tlcl|HF680312.1_prot_CCU70690.1_241\t26.140\t329\t205\t10\t2\t303\t591\t908\t6.26e-23\t96.7\n",
        "3535\tlcl|HF680312.1_prot_CCU74013.1_3564\t38.462\t130\t76\t3\t91\t219\t685\t811\t4.96e-20\t87.8\n",
        "3535\tlcl|HF680312.1_prot_CCU71475.1_1026\t36.522\t115\t71\t2\t86\t200\t555\t667\t2.19e-16\t76.6\n",
        "3535\tlcl|HF680312.1_prot_CCU71362.1_913\t24.535\t269\t187\t3\t52\t306\t633\t899\t2.61e-14\t70.5\n",
        "3535\tlcl|HF680312.1_prot_CCU70724.1_275\t30.534\t131\t81\t3\t78\t205\t1983\t2106\t6.54e-13\t66.2\n",
        "3535\tlcl|HF680312.1_prot_CCU70719.1_270\t26.087\t115\t83\t1\t90\t204\t15\t127\t9.14e-12\t58.5\n",
        "3535\tlcl|HF680312.1_prot_CCU72006.1_1557\t35.652\t115\t68\t3\t87\t200\t421\t530\t1.06e-11\t62.0\n",
        "3535\tlcl|HF680312.1_prot_CCU72513.1_2064\t33.628\t113\t72\t1\t91\t200\t766\t878\t1.22e-11\t62.4\n",
        "3536\tlcl|HF680312.1_prot_CCU72327.1_1878\t100.000\t280\t0\t0\t1\t280\t1\t280\t0.0\t570\n",
        "3536\tlcl|HF680312.1_prot_CCU72858.1_2409\t27.437\t277\t181\t4\t10\t272\t1\t271\t1.82e-26\t101\n",
        "3537\tlcl|HF680312.1_prot_CCU72328.1_1879\t100.000\t67\t0\t0\t1\t67\t1\t67\t9.75e-44\t132\n",
        "```"
      ],
      "metadata": {
        "id": "k7gZ9dKJ9QEf"
      }
    },
    {
      "cell_type": "code",
      "source": [
        "f = open('scaffolds.hits_from_MIL_1.txt', 'r')\n",
        "was = ''\n",
        "for line in f:\n",
        "    idx = line[:line.find('\\t')]\n",
        "    if was != idx:\n",
        "        was = idx\n",
        "        content = line[line.find('CCU'):line.find('.',line.find('CCU'))+2]\n",
        "        exitFlag=False\n",
        "        for i in orders:\n",
        "            for sc in fts[i]:\n",
        "                if sc.qualifiers['locus_tag'][0] == idx:\n",
        "                    sc.qualifiers['note'] = [content]\n",
        "                    exitFlag=True\n",
        "                    break\n",
        "            if exitFlag:\n",
        "                break"
      ],
      "metadata": {
        "id": "6iEYUzJl9Nx4"
      },
      "execution_count": null,
      "outputs": []
    },
    {
      "cell_type": "code",
      "source": [
        "pprint(fts[orders[0]][2].qualifiers['note'])"
      ],
      "metadata": {
        "colab": {
          "base_uri": "https://localhost:8080/"
        },
        "id": "4oROrEbX9loA",
        "outputId": "be9c786b-3f4c-400d-def8-86fb2f4c11a2"
      },
      "execution_count": null,
      "outputs": [
        {
          "output_type": "stream",
          "name": "stdout",
          "text": [
            "['CCU71928.1']\n"
          ]
        }
      ]
    },
    {
      "cell_type": "code",
      "source": [
        "mil_1_genome = SeqIO.read(\"/content/T_oleivorans_MIL_1.gbk\", \"genbank\")"
      ],
      "metadata": {
        "id": "UcKw5I1h9rQs"
      },
      "execution_count": null,
      "outputs": []
    },
    {
      "cell_type": "code",
      "source": [
        "for  mil_f in mil_1_genome.features:\n",
        "  if 'protein_id' not in mil_f.qualifiers:\n",
        "    continue\n",
        "    \n",
        "  for j in fts.keys():\n",
        "        for f in fts[j]:\n",
        "            if 'note' in f.qualifiers: \n",
        "                if f.qualifiers['note'][0] == mil_f.qualifiers['protein_id'][0]:\n",
        "                    f.qualifiers['product'] = mil_f.qualifiers['product']"
      ],
      "metadata": {
        "id": "fAZ9J9K19uv8"
      },
      "execution_count": null,
      "outputs": []
    },
    {
      "cell_type": "code",
      "source": [
        "pprint(fts[orders[0]][0].qualifiers)"
      ],
      "metadata": {
        "colab": {
          "base_uri": "https://localhost:8080/"
        },
        "id": "tU0WryYl9xSJ",
        "outputId": "287ec62c-d5fd-44a1-d04b-d7db54359e55"
      },
      "execution_count": null,
      "outputs": [
        {
          "output_type": "stream",
          "name": "stdout",
          "text": [
            "OrderedDict([('locus_tag', ['1']),\n",
            "             ('translation',\n",
            "              [Seq('MPKYTKPRKTWQYSNEFKVKAVQLSLIEGIQVKEVAVTLDIHPFMLSRWRKEYR...LKK')]),\n",
            "             ('note', ['CCU71653.1']),\n",
            "             ('product', ['transposase orfA'])])\n"
          ]
        }
      ]
    },
    {
      "cell_type": "code",
      "source": [
        "for i, record in enumerate(recs):\n",
        "    record.features = fts[orders[i]]"
      ],
      "metadata": {
        "id": "-NoA73-l91ST"
      },
      "execution_count": null,
      "outputs": []
    },
    {
      "cell_type": "code",
      "source": [
        "SeqIO.write(recs, \"GENOME.gbk\", \"genbank\")"
      ],
      "metadata": {
        "colab": {
          "base_uri": "https://localhost:8080/"
        },
        "id": "PixPKxWh93-Z",
        "outputId": "6c099850-fd05-4ef3-89ee-0ca262d999c5"
      },
      "execution_count": null,
      "outputs": [
        {
          "output_type": "stream",
          "name": "stderr",
          "text": [
            "/usr/local/lib/python3.7/dist-packages/Bio/SeqIO/InsdcIO.py:730: BiopythonWarning: Increasing length of locus line to allow long name. This will result in fields that are not in usual positions.\n",
            "  BiopythonWarning,\n"
          ]
        },
        {
          "output_type": "execute_result",
          "data": {
            "text/plain": [
              "67"
            ]
          },
          "metadata": {},
          "execution_count": 32
        }
      ]
    },
    {
      "cell_type": "markdown",
      "source": [
        "# Добавляем функции белков (из БД SwissProt)"
      ],
      "metadata": {
        "id": "CiQ0myhq-HdN"
      }
    },
    {
      "cell_type": "markdown",
      "source": [
        "Читаем информацию из файла scaffolds.hits_from_SwissProt.txt"
      ],
      "metadata": {
        "id": "URlF417T-Mfn"
      }
    },
    {
      "cell_type": "code",
      "source": [
        "!head scaffolds.hits_from_SwissProt.txt"
      ],
      "metadata": {
        "colab": {
          "base_uri": "https://localhost:8080/"
        },
        "id": "MR124xT2-IYD",
        "outputId": "fc29c14d-4768-47b3-c0c0-317dfe5d6e90"
      },
      "execution_count": null,
      "outputs": [
        {
          "output_type": "stream",
          "name": "stdout",
          "text": [
            "169\tsp|P55546|Y4LF_SINFN\t42.553\t141\t80\t1\t1\t141\t1\t140\t1.17e-36\t144\n",
            "429\tsp|Q06916|GUFA_MYXXA\t43.802\t242\t136\t0\t71\t312\t13\t254\t2.32e-47\t162\n",
            "429\tsp|Q3B4G1|ZUPT_CHLL3\t34.016\t244\t148\t6\t72\t304\t17\t258\t6.79e-25\t103\n",
            "429\tsp|Q8N1S5|S39AB_HUMAN\t40.625\t160\t83\t3\t162\t312\t186\t342\t1.63e-23\t101\n",
            "429\tsp|Q6P6S2|S39AB_RAT\t40.000\t160\t84\t3\t162\t312\t179\t335\t2.02e-23\t101\n",
            "429\tsp|Q2YDD4|S39AB_BOVIN\t40.000\t160\t84\t3\t162\t312\t185\t341\t2.61e-23\t101\n",
            "429\tsp|Q8NQK0|ZUPT_CORGL\t35.968\t253\t144\t7\t67\t306\t10\t257\t1.82e-22\t97.4\n",
            "429\tsp|Q8BWY7|S39AB_MOUSE\t41.176\t153\t78\t3\t169\t312\t193\t342\t2.68e-22\t98.6\n",
            "429\tsp|B3ECE6|ZUPT_CHLL2\t34.000\t250\t146\t10\t71\t306\t16\t260\t5.33e-22\t96.3\n",
            "429\tsp|Q28J44|S39AB_XENTR\t39.623\t159\t84\t3\t163\t312\t181\t336\t1.08e-21\t96.7\n"
          ]
        }
      ]
    },
    {
      "cell_type": "markdown",
      "source": [
        "!head scaffolds.hits_from_SwissProt.txt"
      ],
      "metadata": {
        "id": "ncc8CEYE-pf7"
      }
    },
    {
      "cell_type": "code",
      "source": [
        "!wget https://ftp.uniprot.org/pub/databases/uniprot/current_release/knowledgebase/complete/uniprot_sprot.dat.gz"
      ],
      "metadata": {
        "colab": {
          "base_uri": "https://localhost:8080/"
        },
        "id": "DPC3iXZc-wPV",
        "outputId": "30f3be87-7195-4bf3-d5a7-03f59a3bc052"
      },
      "execution_count": null,
      "outputs": [
        {
          "output_type": "stream",
          "name": "stdout",
          "text": [
            "--2021-12-17 20:00:14--  https://ftp.uniprot.org/pub/databases/uniprot/current_release/knowledgebase/complete/uniprot_sprot.dat.gz\n",
            "Resolving ftp.uniprot.org (ftp.uniprot.org)... 128.175.240.195\n",
            "Connecting to ftp.uniprot.org (ftp.uniprot.org)|128.175.240.195|:443... connected.\n",
            "HTTP request sent, awaiting response... 200 OK\n",
            "Length: 625798251 (597M) [application/x-gzip]\n",
            "Saving to: ‘uniprot_sprot.dat.gz’\n",
            "\n",
            "uniprot_sprot.dat.g 100%[===================>] 596.81M   179MB/s    in 3.4s    \n",
            "\n",
            "2021-12-17 20:00:18 (178 MB/s) - ‘uniprot_sprot.dat.gz’ saved [625798251/625798251]\n",
            "\n"
          ]
        }
      ]
    },
    {
      "cell_type": "code",
      "source": [
        "!gzip -d uniprot_sprot.dat.gz"
      ],
      "metadata": {
        "id": "c_Nzsn2--z8v"
      },
      "execution_count": null,
      "outputs": []
    },
    {
      "cell_type": "code",
      "source": [
        "!grep Q55EH8 uniprot_sprot.dat"
      ],
      "metadata": {
        "colab": {
          "base_uri": "https://localhost:8080/"
        },
        "id": "P9bG4d2k-45c",
        "outputId": "e71d1531-cccb-4200-b50c-cbe2178c54f3"
      },
      "execution_count": null,
      "outputs": [
        {
          "output_type": "stream",
          "name": "stdout",
          "text": [
            "AC   Q55EH8;\n",
            "DR   PaxDb; Q55EH8; -.\n",
            "DR   InParanoid; Q55EH8; -.\n",
            "DR   PhylomeDB; Q55EH8; -.\n",
            "DR   PRO; PR:Q55EH8; -.\n"
          ]
        }
      ]
    }
  ]
}